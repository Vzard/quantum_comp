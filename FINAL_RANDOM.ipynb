{
 "cells": [
  {
   "cell_type": "code",
   "execution_count": 1,
   "id": "4c07fad5",
   "metadata": {},
   "outputs": [
    {
     "name": "stderr",
     "output_type": "stream",
     "text": [
      "/Users/venkateshkalakkad/opt/anaconda3/envs/QCprojects/lib/python3.6/site-packages/qiskit/__init__.py:66: DeprecationWarning: Using Qiskit with Python 3.6 is deprecated as of qiskit-terra 0.17.0. Support for running Qiskit with Python 3.6 will be removed in qiskit-terra 0.20.0.\n",
      "  DeprecationWarning,\n"
     ]
    }
   ],
   "source": [
    "from qiskit import  assemble \n",
    "from qiskit import QuantumCircuit, QuantumRegister, ClassicalRegister, execute, Aer,  BasicAer\n",
    "from qiskit.visualization import plot_histogram"
   ]
  },
  {
   "cell_type": "code",
   "execution_count": 2,
   "id": "2c308e97",
   "metadata": {},
   "outputs": [],
   "source": [
    "def pseudo_random(numqbits ):\n",
    "    Ranreg = QuantumRegister(numqbits,name='ran')\n",
    "    Ranclas= ClassicalRegister(numqbits, name='cran')\n",
    "    qc = QuantumCircuit(Ranreg,Ranclas)\n",
    "    qc.reset(Ranreg)\n",
    "    qc.h(Ranreg)  #superposition. This places qubits in superposition state\n",
    "    qc.measure(Ranreg,Ranclas) #quantum collapse\n",
    "    sim =  Aer.get_backend('aer_simulator' )\n",
    "    counts = sim.run(qc).result().get_counts()\n",
    "    value = max(counts,key=lambda x: counts[x])\n",
    "    return value,counts,qc"
   ]
  },
  {
   "cell_type": "code",
   "execution_count": 3,
   "id": "a016a503",
   "metadata": {},
   "outputs": [
    {
     "data": {
      "text/html": [
       "<pre style=\"word-wrap: normal;white-space: pre;background: #fff0;line-height: 1.1;font-family: &quot;Courier New&quot;,Courier,monospace\">             ┌───┐┌─┐      \n",
       " ran_0: ─|0>─┤ H ├┤M├──────\n",
       "             ├───┤└╥┘┌─┐   \n",
       " ran_1: ─|0>─┤ H ├─╫─┤M├───\n",
       "             ├───┤ ║ └╥┘┌─┐\n",
       " ran_2: ─|0>─┤ H ├─╫──╫─┤M├\n",
       "             └───┘ ║  ║ └╥┘\n",
       "cran: 3/═══════════╩══╩══╩═\n",
       "                   0  1  2 </pre>"
      ],
      "text/plain": [
       "             ┌───┐┌─┐      \n",
       " ran_0: ─|0>─┤ H ├┤M├──────\n",
       "             ├───┤└╥┘┌─┐   \n",
       " ran_1: ─|0>─┤ H ├─╫─┤M├───\n",
       "             ├───┤ ║ └╥┘┌─┐\n",
       " ran_2: ─|0>─┤ H ├─╫──╫─┤M├\n",
       "             └───┘ ║  ║ └╥┘\n",
       "cran: 3/═══════════╩══╩══╩═\n",
       "                   0  1  2 "
      ]
     },
     "execution_count": 3,
     "metadata": {},
     "output_type": "execute_result"
    }
   ],
   "source": [
    "\n",
    "RandomNo,counts,qc = pseudo_random(3)\n",
    "qc.draw()\n",
    "#returns value with highest frequency\n"
   ]
  },
  {
   "cell_type": "code",
   "execution_count": 4,
   "id": "f6713230",
   "metadata": {},
   "outputs": [
    {
     "name": "stdout",
     "output_type": "stream",
     "text": [
      "Random Number is :  5\n"
     ]
    }
   ],
   "source": [
    "RandomNumber= int(RandomNo,2)\n",
    "print (\"Random Number is : \", RandomNumber)"
   ]
  },
  {
   "cell_type": "code",
   "execution_count": 5,
   "id": "bbc2e823",
   "metadata": {},
   "outputs": [
    {
     "name": "stdout",
     "output_type": "stream",
     "text": [
      "13.671875  is the probability for random number: 5\n"
     ]
    }
   ],
   "source": [
    "  #just to verify the result. The number above has highest probability\n",
    "all_values = counts.values()\n",
    "max_value = max(all_values) \n",
    "print(max_value/sum(all_values)*100,\" is the probability for random number:\", RandomNumber)"
   ]
  },
  {
   "cell_type": "code",
   "execution_count": 6,
   "id": "d1cfa64f",
   "metadata": {},
   "outputs": [
    {
     "data": {
      "image/png": "[encoded data removed]",
      "text/plain": [
       "<Figure size 504x360 with 1 Axes>"
      ]
     },
     "execution_count": 6,
     "metadata": {},
     "output_type": "execute_result"
    }
   ],
   "source": [
    "plot_histogram(counts) # Check if highest prob matches for random number above!"
   ]
  }
 ],
 "metadata": {
  "kernelspec": {
   "display_name": "Python 3",
   "language": "python",
   "name": "python3"
  },
  "language_info": {
   "codemirror_mode": {
    "name": "ipython",
    "version": 3
   },
   "file_extension": ".py",
   "mimetype": "text/x-python",
   "name": "python",
   "nbconvert_exporter": "python",
   "pygments_lexer": "ipython3",
   "version": "3.6.13"
  }
 },
 "nbformat": 4,
 "nbformat_minor": 5
}
